{
  "nbformat": 4,
  "nbformat_minor": 0,
  "metadata": {
    "colab": {
      "name": "SADIA_364398.ipynb",
      "provenance": [],
      "collapsed_sections": []
    },
    "kernelspec": {
      "name": "python3",
      "display_name": "Python 3"
    },
    "language_info": {
      "name": "python"
    }
  },
  "cells": [
    {
      "cell_type": "code",
      "execution_count": 1,
      "metadata": {
        "colab": {
          "base_uri": "https://localhost:8080/"
        },
        "id": "SFP1xUja_br2",
        "outputId": "38c8f1ca-2e54-4ff6-ab6b-113fde8335a5"
      },
      "outputs": [
        {
          "output_type": "stream",
          "name": "stdout",
          "text": [
            "Requirement already satisfied: matplotlib in /usr/local/lib/python3.7/dist-packages (3.2.2)\n",
            "Requirement already satisfied: keras in /usr/local/lib/python3.7/dist-packages (2.8.0)\n",
            "Requirement already satisfied: sklearn in /usr/local/lib/python3.7/dist-packages (0.0)\n",
            "Collecting opencv-python==3.4.11.45\n",
            "  Downloading opencv_python-3.4.11.45-cp37-cp37m-manylinux2014_x86_64.whl (49.1 MB)\n",
            "\u001b[K     |████████████████████████████████| 49.1 MB 127 kB/s \n",
            "\u001b[?25hCollecting opencv-contrib-python==3.4.11.45\n",
            "  Downloading opencv_contrib_python-3.4.11.45-cp37-cp37m-manylinux2014_x86_64.whl (54.7 MB)\n",
            "\u001b[K     |████████████████████████████████| 54.7 MB 106 kB/s \n",
            "\u001b[?25hRequirement already satisfied: numpy>=1.14.5 in /usr/local/lib/python3.7/dist-packages (from opencv-python==3.4.11.45) (1.21.5)\n",
            "Requirement already satisfied: cycler>=0.10 in /usr/local/lib/python3.7/dist-packages (from matplotlib) (0.11.0)\n",
            "Requirement already satisfied: python-dateutil>=2.1 in /usr/local/lib/python3.7/dist-packages (from matplotlib) (2.8.2)\n",
            "Requirement already satisfied: pyparsing!=2.0.4,!=2.1.2,!=2.1.6,>=2.0.1 in /usr/local/lib/python3.7/dist-packages (from matplotlib) (3.0.7)\n",
            "Requirement already satisfied: kiwisolver>=1.0.1 in /usr/local/lib/python3.7/dist-packages (from matplotlib) (1.3.2)\n",
            "Requirement already satisfied: six>=1.5 in /usr/local/lib/python3.7/dist-packages (from python-dateutil>=2.1->matplotlib) (1.15.0)\n",
            "Requirement already satisfied: scikit-learn in /usr/local/lib/python3.7/dist-packages (from sklearn) (1.0.2)\n",
            "Requirement already satisfied: scipy>=1.1.0 in /usr/local/lib/python3.7/dist-packages (from scikit-learn->sklearn) (1.4.1)\n",
            "Requirement already satisfied: joblib>=0.11 in /usr/local/lib/python3.7/dist-packages (from scikit-learn->sklearn) (1.1.0)\n",
            "Requirement already satisfied: threadpoolctl>=2.0.0 in /usr/local/lib/python3.7/dist-packages (from scikit-learn->sklearn) (3.1.0)\n",
            "Installing collected packages: opencv-python, opencv-contrib-python\n",
            "  Attempting uninstall: opencv-python\n",
            "    Found existing installation: opencv-python 4.1.2.30\n",
            "    Uninstalling opencv-python-4.1.2.30:\n",
            "      Successfully uninstalled opencv-python-4.1.2.30\n",
            "  Attempting uninstall: opencv-contrib-python\n",
            "    Found existing installation: opencv-contrib-python 4.1.2.30\n",
            "    Uninstalling opencv-contrib-python-4.1.2.30:\n",
            "      Successfully uninstalled opencv-contrib-python-4.1.2.30\n",
            "\u001b[31mERROR: pip's dependency resolver does not currently take into account all the packages that are installed. This behaviour is the source of the following dependency conflicts.\n",
            "albumentations 0.1.12 requires imgaug<0.2.7,>=0.2.5, but you have imgaug 0.2.9 which is incompatible.\u001b[0m\n",
            "Successfully installed opencv-contrib-python-3.4.11.45 opencv-python-3.4.11.45\n"
          ]
        }
      ],
      "source": [
        "!pip install matplotlib keras sklearn opencv-python==3.4.11.45 opencv-contrib-python==3.4.11.45"
      ]
    },
    {
      "cell_type": "code",
      "source": [
        "import math\n",
        "import zipfile\n",
        "import random\n",
        "import cv2\n",
        "import glob\n",
        "import numpy as np\n",
        "import matplotlib.pyplot as plt\n",
        "from sklearn.model_selection import GridSearchCV\n",
        "from sklearn.preprocessing import StandardScaler\n",
        "from sklearn.svm import SVC\n",
        "from sklearn.cluster import KMeans\n",
        "from sklearn import svm\n",
        "from sklearn.metrics import accuracy_score\n",
        "from sklearn.metrics import precision_recall_fscore_support"
      ],
      "metadata": {
        "id": "sdOpAX5Y_hfl"
      },
      "execution_count": 2,
      "outputs": []
    },
    {
      "cell_type": "code",
      "source": [
        "# Just to unzip the zip file inside drive for google colab usage\n",
        "# with zipfile.ZipFile('/content/drive/MyDrive/Dataset/imageDataset.zip', 'r') as zip_ref:\n",
        "#     zip_ref.extractall('/content/drive/MyDrive/Dataset/imageDataset')"
      ],
      "metadata": {
        "id": "62u5ahDRAW2_"
      },
      "execution_count": null,
      "outputs": []
    },
    {
      "cell_type": "code",
      "source": [
        "# Function to get keypoints and descriptors from an image using SIFT\n",
        "def getDescriptors(sift, img):\n",
        "  keypoint, descriptor = sift.detectAndCompute(img, None)\n",
        "  return descriptor\n",
        "\n",
        "# Function tostack descriptors vertically using numpy\n",
        "def vstackDescriptors(descriptor_list):\n",
        "  # Converting descriptors list to numpy array\n",
        "  descriptors = np.array(descriptor_list[0])\n",
        "  # Loop over the descriptor list to stack them using numpy\n",
        "  for descriptor in descriptor_list[1:]:\n",
        "      descriptors = np.vstack((descriptors, descriptor)) \n",
        "\n",
        "  return descriptors\n",
        "\n",
        "# Function to cluster similar descriptors using KMeans clustering\n",
        "def clusterDescriptors(descriptors, no_clusters):\n",
        "  kmeans = KMeans(n_clusters = no_clusters).fit(descriptors)\n",
        "  return kmeans\n",
        "\n",
        "# Function to extract features from images using Kmeans clustering, descriptor list an image count\n",
        "def extractFeatures(kmeans, descriptor_list, image_count, no_clusters):\n",
        "  # Make numpy array of zeroes as per number of clusters for total number of images we have \n",
        "  im_features = np.array([np.zeros(no_clusters) for i in range(image_count)])\n",
        "\n",
        "  # Iterate over total images\n",
        "  for i in range(image_count):\n",
        "      # Iterate over descriptors list\n",
        "      for j in range(len(descriptor_list[i])):\n",
        "          # Extract features from descriptor list and reshape to 1x128\n",
        "          feature = descriptor_list[i][j]\n",
        "          feature = feature.reshape(1, 128)\n",
        "          # Predict class to which feature belongs\n",
        "          idx = kmeans.predict(feature)\n",
        "          # Repeat the procedure for all features of the image\n",
        "          im_features[i][idx] += 1\n",
        "\n",
        "  return im_features\n",
        "\n",
        "\n",
        "# Function to normalize the features\n",
        "def normalizeFeatures(scale, features):\n",
        "  return scale.transform(features)\n",
        "\n",
        "\n",
        "# Function to plot histogram of feature of images with respect to number of clusters\n",
        "def plotHistogram(im_features, no_clusters):\n",
        "  # On x-axis we have no of clusters and for y axis we have occurences of features for that cluster\n",
        "  x_scalar = np.arange(no_clusters)\n",
        "  y_scalar = np.array([abs(np.sum(im_features[:,h], dtype=np.int32)) for h in range(no_clusters)])\n",
        "\n",
        "  plt.bar(x_scalar, y_scalar)\n",
        "  plt.xlabel(\"Visual Word Index\")\n",
        "  plt.ylabel(\"Frequency\")\n",
        "  plt.title(\"Complete Vocabulary Generated\")\n",
        "  plt.xticks(x_scalar + 0.4, x_scalar)\n",
        "  plt.show()"
      ],
      "metadata": {
        "id": "TdKBQvo7L_C-"
      },
      "execution_count": 3,
      "outputs": []
    },
    {
      "cell_type": "code",
      "source": [
        "X_train = []\n",
        "y_train = []\n",
        "X_test = []\n",
        "y_test = []\n",
        "\n",
        "# Loop through all 10 folders of dataset\n",
        "for path in glob.glob(\"/content/drive/MyDrive/Dataset/imageDataset/000*/\"):\n",
        "  # Open the train.txt file and read in line by line\n",
        "  with open(path + \"train.txt\") as file:\n",
        "    for train_image_path in file.readlines():\n",
        "      # Extract path of image to be used as trained data and make full path to read image\n",
        "      full_path = path + train_image_path[:-1]\n",
        "\n",
        "      # One of the file was corrupted due to which code was throwing exception so try except block is for such types of error handling\n",
        "      try:\n",
        "        image = cv2.imread(full_path, 0) # Read image from full path\n",
        "        resized_image = cv2.resize(image, (150, 150)) # Resize image and make it square of size 256x256\n",
        "        X_train.append(resized_image) # Append image in X_train list\n",
        "        \n",
        "        # Get two second last characters from path (folder name) which represents class name\n",
        "        # Convert it to integer and subtract 1 from it to avoid one-hot encoding or label-encoding procedure for converting categorical classes\n",
        "        # So now labels for classes are integer (0-9) instead of (1-10)\n",
        "        y_train.append(int(path[-3:-1]) - 1) # Append classes names in y_train list\n",
        "      except:\n",
        "        print(\"Something went wrong with file: \", full_path)\n",
        "\n",
        "  # Repeat the same procedure for extracting test dataset\n",
        "  with open(path + \"test.txt\") as file:\n",
        "    for test_image_path in file.readlines():\n",
        "      full_path = path + test_image_path[:-1]\n",
        "      try:\n",
        "        image = cv2.imread(full_path)\n",
        "        resized_image = cv2.resize(image, (150, 150))\n",
        "        X_test.append(resized_image)\n",
        "        y_test.append(int(path[-3:-1]) - 1)\n",
        "      except:\n",
        "        print(\"Something went wrong with file: \", full_path)"
      ],
      "metadata": {
        "colab": {
          "base_uri": "https://localhost:8080/"
        },
        "id": "5Fgu9L2iFkTc",
        "outputId": "fa905acd-a400-4cf1-d9c2-73b6bcdec9ac"
      },
      "execution_count": 4,
      "outputs": [
        {
          "output_type": "stream",
          "name": "stdout",
          "text": [
            "Something went wrong with file:  /content/drive/MyDrive/Dataset/imageDataset/00009/01242_00002.ppm\n"
          ]
        }
      ]
    },
    {
      "cell_type": "code",
      "source": [
        "# Just printing train data size and test data size \n",
        "print(\"Train data size: \", len(X_train)) \n",
        "print(\"Test data size: \", len(X_test))"
      ],
      "metadata": {
        "colab": {
          "base_uri": "https://localhost:8080/"
        },
        "id": "21v0kzNcYsUQ",
        "outputId": "2326c063-e336-41b1-c067-db5481025089"
      },
      "execution_count": 6,
      "outputs": [
        {
          "output_type": "stream",
          "name": "stdout",
          "text": [
            "Train data size:  799\n",
            "Test data size:  200\n"
          ]
        }
      ]
    },
    {
      "cell_type": "code",
      "source": [
        "!pip uninstall opencv-python -y\n",
        "!pip uninstall opencv-contrib-python -y\n",
        "!pip install opencv-python==3.4.11.45\n",
        "!pip install opencv-contrib-python==3.4.11.45"
      ],
      "metadata": {
        "colab": {
          "base_uri": "https://localhost:8080/",
          "height": 527
        },
        "id": "OledbSa6ZCIj",
        "outputId": "de278684-5708-4157-9c62-4c264c3989d1"
      },
      "execution_count": 7,
      "outputs": [
        {
          "output_type": "stream",
          "name": "stdout",
          "text": [
            "Found existing installation: opencv-python 3.4.11.45\n",
            "Uninstalling opencv-python-3.4.11.45:\n",
            "  Successfully uninstalled opencv-python-3.4.11.45\n",
            "Found existing installation: opencv-contrib-python 3.4.11.45\n",
            "Uninstalling opencv-contrib-python-3.4.11.45:\n",
            "  Successfully uninstalled opencv-contrib-python-3.4.11.45\n",
            "Collecting opencv-python==3.4.11.45\n",
            "  Using cached opencv_python-3.4.11.45-cp37-cp37m-manylinux2014_x86_64.whl (49.1 MB)\n",
            "Requirement already satisfied: numpy>=1.14.5 in /usr/local/lib/python3.7/dist-packages (from opencv-python==3.4.11.45) (1.21.5)\n",
            "Installing collected packages: opencv-python\n",
            "\u001b[31mERROR: pip's dependency resolver does not currently take into account all the packages that are installed. This behaviour is the source of the following dependency conflicts.\n",
            "albumentations 0.1.12 requires imgaug<0.2.7,>=0.2.5, but you have imgaug 0.2.9 which is incompatible.\u001b[0m\n",
            "Successfully installed opencv-python-3.4.11.45\n"
          ]
        },
        {
          "output_type": "display_data",
          "data": {
            "application/vnd.colab-display-data+json": {
              "pip_warning": {
                "packages": [
                  "cv2"
                ]
              }
            }
          },
          "metadata": {}
        },
        {
          "output_type": "stream",
          "name": "stdout",
          "text": [
            "Collecting opencv-contrib-python==3.4.11.45\n",
            "  Using cached opencv_contrib_python-3.4.11.45-cp37-cp37m-manylinux2014_x86_64.whl (54.7 MB)\n",
            "Requirement already satisfied: numpy>=1.14.5 in /usr/local/lib/python3.7/dist-packages (from opencv-contrib-python==3.4.11.45) (1.21.5)\n",
            "Installing collected packages: opencv-contrib-python\n",
            "Successfully installed opencv-contrib-python-3.4.11.45\n"
          ]
        },
        {
          "output_type": "display_data",
          "data": {
            "application/vnd.colab-display-data+json": {
              "pip_warning": {
                "packages": [
                  "cv2"
                ]
              }
            }
          },
          "metadata": {}
        }
      ]
    },
    {
      "cell_type": "code",
      "source": [
        "def train_model(X_train, no_clusters):\n",
        "  descriptor_list = []\n",
        "\n",
        "  # Loop over train images\n",
        "  for image in X_train:\n",
        "    # Apply SIFT and get descriptors of images and append in a list of descriptors\n",
        "    sift = cv2.xfeatures2d.SIFT_create()\n",
        "    descriptor = getDescriptors(sift, image)\n",
        "    descriptor_list.append(descriptor)\n",
        "  \n",
        "  # Vstack descriptors\n",
        "  descriptors = vstackDescriptors(descriptor_list)\n",
        "  print(\"Descriptors vstacked......\")\n",
        "\n",
        "  # Cluster descriptors using Kmeans\n",
        "  kmeans = clusterDescriptors(descriptors, no_clusters)\n",
        "  print(\"Descriptors clustered......\")\n",
        "\n",
        "  # Extract train images features\n",
        "  train_features = extractFeatures(kmeans, descriptor_list, len(X_train), no_clusters)\n",
        "  print(\"Train images features extracted......\")\n",
        "\n",
        "  # Normalize the train images features\n",
        "  scale = StandardScaler().fit(train_features)        \n",
        "  train_features = scale.transform(train_features)\n",
        "  print(\"Train images normalized......\\n\")\n",
        "\n",
        "  # Plot histogram of train images features\n",
        "  plotHistogram(train_features, no_clusters)\n",
        "\n",
        "  return kmeans, scale, train_features"
      ],
      "metadata": {
        "id": "uLUtQPt4Xoc9"
      },
      "execution_count": 8,
      "outputs": []
    },
    {
      "cell_type": "code",
      "source": [
        "def test_model(X_test, kmeans, scale, im_features, no_clusters):\n",
        "  descriptor_list = []\n",
        "\n",
        "  # Loop over test images\n",
        "  for image in X_test:\n",
        "    # Apply SIFT and get descriptors of images and append in a list of descriptors\n",
        "    sift = cv2.xfeatures2d.SIFT_create()\n",
        "    descriptor = getDescriptors(sift, image)\n",
        "    descriptor_list.append(descriptor)\n",
        "  \n",
        "  # Vstack descriptors\n",
        "  descriptors = vstackDescriptors(descriptor_list)\n",
        "  print(\"Descriptors vstacked......\")\n",
        "\n",
        "  # Extract test images features\n",
        "  test_features = extractFeatures(kmeans, descriptor_list, len(X_test), no_clusters)\n",
        "  print(\"Test images features extracted......\")\n",
        "\n",
        "  # Scale test features\n",
        "  test_features = scale.transform(test_features)\n",
        "  print(\"Test images scaled......\\n\")\n",
        "\n",
        "  return test_features"
      ],
      "metadata": {
        "id": "pzcrnrV9IDHv"
      },
      "execution_count": 9,
      "outputs": []
    },
    {
      "cell_type": "code",
      "source": [
        "no_clusters = 500\n",
        "\n",
        "# Call train_model() to get train_features, scale and kmeans\n",
        "kmeans, scale, train_features = train_model(X_train, no_clusters)"
      ],
      "metadata": {
        "colab": {
          "base_uri": "https://localhost:8080/",
          "height": 387
        },
        "id": "PHRycgvvH8d1",
        "outputId": "26dd9237-e173-4846-acd5-1d4ec0d26417"
      },
      "execution_count": 23,
      "outputs": [
        {
          "output_type": "stream",
          "name": "stdout",
          "text": [
            "Descriptors vstacked......\n",
            "Descriptors clustered......\n",
            "Train images features extracted......\n",
            "Train images normalized......\n",
            "\n"
          ]
        },
        {
          "output_type": "display_data",
          "data": {
            "image/png": "[encoded data removed]",
            "text/plain": [
              "<Figure size 432x288 with 1 Axes>"
            ]
          },
          "metadata": {
            "needs_background": "light"
          }
        }
      ]
    },
    {
      "cell_type": "code",
      "source": [
        "# Pass kmeans, scale and train_features you got from train model along with no of clusters and test images to extract test images features\n",
        "test_features = test_model(X_test, kmeans, scale, train_features, no_clusters)"
      ],
      "metadata": {
        "id": "uQNZ6lzAJU68",
        "colab": {
          "base_uri": "https://localhost:8080/"
        },
        "outputId": "c441d3b9-f231-433f-914b-bb58f58e038c"
      },
      "execution_count": 24,
      "outputs": [
        {
          "output_type": "stream",
          "name": "stdout",
          "text": [
            "Descriptors vstacked......\n",
            "Test images features extracted......\n",
            "Test images scaled......\n",
            "\n"
          ]
        }
      ]
    },
    {
      "cell_type": "code",
      "source": [
        "# Fit train images features and labels using SVM classifier\n",
        "svm = SVC().fit(train_features, np.array(y_train))"
      ],
      "metadata": {
        "id": "0Pch0Q1jIPzC"
      },
      "execution_count": 25,
      "outputs": []
    },
    {
      "cell_type": "code",
      "source": [
        "# Predict the labels of test features using previously trained SVM model\n",
        "predictions = svm.predict(test_features)"
      ],
      "metadata": {
        "id": "y7uaazpDUSoK"
      },
      "execution_count": 26,
      "outputs": []
    },
    {
      "cell_type": "code",
      "source": [
        "# Converting y_predicted labels list and y_test labels list to numpy\n",
        "y_predicted = np.array(predictions)\n",
        "y_test = np.array(y_test)\n",
        "\n",
        "# Getting difference of y_test and y_predicted class to compute different things like (correctly classified, false positives etc)\n",
        "difference = y_test - y_predicted\n",
        "\n",
        "# Calculating precision, recall and f_score\n",
        "precision, recall, f_score, _ = precision_recall_fscore_support(y_test, y_predicted, average='micro')"
      ],
      "metadata": {
        "id": "7_5gcoYsUhxQ"
      },
      "execution_count": 27,
      "outputs": []
    },
    {
      "cell_type": "code",
      "source": [
        "print('Correctly classified: ', np.where(difference == 0)[0].shape[0])\n",
        "print('Incorrectly classified: ', np.where(difference != 0)[0].shape[0])\n",
        "print('False positives: ', np.where(difference == -1)[0])\n",
        "print('False negatives: ', np.where(difference == 1)[0])\n",
        "\n",
        "print('\\nPrecision: {:.3f}'.format(precision))\n",
        "print('Recall: {:.3f}'.format(recall))\n",
        "print('Fscore: {:.3f}'.format(f_score))\n",
        "\n",
        "print('\\nAccuracy: {:.3f}'.format(accuracy_score(y_test, y_predicted)))"
      ],
      "metadata": {
        "colab": {
          "base_uri": "https://localhost:8080/"
        },
        "id": "uU-ZN__hYg2F",
        "outputId": "9a288ed3-40fa-40f9-ce94-049063036529"
      },
      "execution_count": 28,
      "outputs": [
        {
          "output_type": "stream",
          "name": "stdout",
          "text": [
            "Correctly classified:  162\n",
            "Incorrectly classified:  38\n",
            "False positives:  [ 89 101 103 104 105 106 107 110 112 113 117 118 125]\n",
            "False negatives:  [55]\n",
            "\n",
            "Precision: 0.810\n",
            "Recall: 0.810\n",
            "Fscore: 0.810\n",
            "\n",
            "Accuracy: 0.810\n"
          ]
        }
      ]
    }
  ]
}